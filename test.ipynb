{
 "cells": [
  {
   "cell_type": "code",
   "execution_count": 1,
   "id": "fc101c44",
   "metadata": {},
   "outputs": [
    {
     "name": "stderr",
     "output_type": "stream",
     "text": [
      "<>:23: SyntaxWarning: invalid escape sequence '\\H'\n",
      "<>:24: SyntaxWarning: invalid escape sequence '\\H'\n",
      "<>:23: SyntaxWarning: invalid escape sequence '\\H'\n",
      "<>:24: SyntaxWarning: invalid escape sequence '\\H'\n",
      "C:\\Users\\longq\\AppData\\Local\\Temp\\ipykernel_23892\\572936293.py:23: SyntaxWarning: invalid escape sequence '\\H'\n",
      "  input_dir=\"D:\\Hoc\\ki5\\DPL\\project2\\data\",\n",
      "C:\\Users\\longq\\AppData\\Local\\Temp\\ipykernel_23892\\572936293.py:24: SyntaxWarning: invalid escape sequence '\\H'\n",
      "  output_dir=\"D:\\Hoc\\ki5\\DPL\\project2\\data_nor\",\n"
     ]
    }
   ],
   "source": [
    "import cv2\n",
    "import os\n",
    "\n",
    "def normalize_and_resize_images(input_dir, output_dir, target_size=(128, 128)):\n",
    "    os.makedirs(output_dir, exist_ok=True)\n",
    "    for root, dirs, files in os.walk(input_dir):\n",
    "        for file in files:\n",
    "            if file.endswith(\".jpg\") or file.endswith(\".png\"):\n",
    "                path = os.path.join(root, file)\n",
    "                img = cv2.imread(path)\n",
    "                resized = cv2.resize(img, target_size)\n",
    "                normalized = resized.astype(\"float32\") / 255.0\n",
    "\n",
    "                rel_path = os.path.relpath(root, input_dir)\n",
    "                save_path_dir = os.path.join(output_dir, rel_path)\n",
    "                os.makedirs(save_path_dir, exist_ok=True)\n",
    "\n",
    "                save_path = os.path.join(save_path_dir, file)\n",
    "                cv2.imwrite(save_path, (normalized * 255).astype(\"uint8\")) \n",
    "\n",
    "normalize_and_resize_images(\n",
    "    input_dir=\"D:\\Hoc\\ki5\\DPL\\project2\\data\",\n",
    "    output_dir=\"D:\\Hoc\\ki5\\DPL\\project2\\data_nor\",\n",
    "    target_size=(128, 128)\n",
    ")"
   ]
  },
  {
   "cell_type": "code",
   "execution_count": 2,
   "id": "7865a635",
   "metadata": {},
   "outputs": [
    {
     "name": "stderr",
     "output_type": "stream",
     "text": [
      "<>:63: SyntaxWarning: invalid escape sequence '\\H'\n",
      "<>:64: SyntaxWarning: invalid escape sequence '\\H'\n",
      "<>:63: SyntaxWarning: invalid escape sequence '\\H'\n",
      "<>:64: SyntaxWarning: invalid escape sequence '\\H'\n",
      "C:\\Users\\longq\\AppData\\Local\\Temp\\ipykernel_23892\\3058901573.py:63: SyntaxWarning: invalid escape sequence '\\H'\n",
      "  input_dir=\"D:\\Hoc\\ki5\\DPL\\project2\\data_nor\",\n",
      "C:\\Users\\longq\\AppData\\Local\\Temp\\ipykernel_23892\\3058901573.py:64: SyntaxWarning: invalid escape sequence '\\H'\n",
      "  output_dir=\"D:\\Hoc\\ki5\\DPL\\project2\\data_pre\",\n"
     ]
    }
   ],
   "source": [
    "import cv2\n",
    "import os\n",
    "import numpy as np\n",
    "import random\n",
    "\n",
    "def random_flip(image):\n",
    "    return cv2.flip(image, 1)\n",
    "\n",
    "def random_rotation(image, angle_range=(-15, 15)):\n",
    "    angle = random.uniform(*angle_range)\n",
    "    h, w = image.shape[:2]\n",
    "    M = cv2.getRotationMatrix2D((w//2, h//2), angle, 1)\n",
    "    return cv2.warpAffine(image, M, (w, h), borderMode=cv2.BORDER_REFLECT)\n",
    "\n",
    "def random_brightness(image, brightness_range=(0.7, 1.3)):\n",
    "    factor = random.uniform(*brightness_range)\n",
    "    return np.clip(image * factor, 0, 255).astype(np.uint8)\n",
    "\n",
    "def random_zoom(image, zoom_range=(0.9, 1.1)):\n",
    "    h, w = image.shape[:2]\n",
    "    zoom = random.uniform(*zoom_range)\n",
    "    new_h, new_w = int(h * zoom), int(w * zoom)\n",
    "    resized = cv2.resize(image, (new_w, new_h))\n",
    "    if zoom < 1:\n",
    "        pad_h = (h - new_h) // 2\n",
    "        pad_w = (w - new_w) // 2\n",
    "        return cv2.copyMakeBorder(resized, pad_h, h - new_h - pad_h, pad_w, w - new_w - pad_w, cv2.BORDER_REFLECT)\n",
    "    else:\n",
    "        crop_h = (new_h - h) // 2\n",
    "        crop_w = (new_w - w) // 2\n",
    "        return resized[crop_h:crop_h+h, crop_w:crop_w+w]\n",
    "\n",
    "def random_noise(image):\n",
    "    noise = np.random.normal(0, 5, image.shape).astype(np.uint8)\n",
    "    return np.clip(image + noise, 0, 255).astype(np.uint8)\n",
    "\n",
    "def augment_image(image):\n",
    "    augmentations = [random_flip, random_rotation, random_brightness, random_zoom, random_noise]\n",
    "    random.shuffle(augmentations)\n",
    "    for aug in augmentations[:3]:\n",
    "        image = aug(image)\n",
    "    return image\n",
    "\n",
    "def augment_dataset(input_dir, output_dir, augment_count=2, target_size=(128, 128)):\n",
    "    for root, _, files in os.walk(input_dir):\n",
    "        for file in files:\n",
    "            if not file.lower().endswith(('.jpg', '.png')):\n",
    "                continue\n",
    "            path = os.path.join(root, file)\n",
    "            image = cv2.imread(path)\n",
    "            if image is None:\n",
    "                continue\n",
    "            rel_path = os.path.relpath(root, input_dir)\n",
    "            save_dir = os.path.join(output_dir, rel_path)\n",
    "            os.makedirs(save_dir, exist_ok=True)\n",
    "            for i in range(augment_count):\n",
    "                augmented = augment_image(image)\n",
    "                augmented = cv2.resize(augmented, target_size)\n",
    "                save_path = os.path.join(save_dir, f\"{os.path.splitext(file)[0]}_aug{i}.jpg\")\n",
    "                cv2.imwrite(save_path, augmented)\n",
    "                \n",
    "augment_dataset(\n",
    "    input_dir=\"D:\\Hoc\\ki5\\DPL\\project2\\data_nor\",\n",
    "    output_dir=\"D:\\Hoc\\ki5\\DPL\\project2\\data_pre\",\n",
    "    augment_count=2,\n",
    "    target_size=(128, 128)    \n",
    ")\n"
   ]
  }
 ],
 "metadata": {
  "kernelspec": {
   "display_name": "base",
   "language": "python",
   "name": "python3"
  },
  "language_info": {
   "codemirror_mode": {
    "name": "ipython",
    "version": 3
   },
   "file_extension": ".py",
   "mimetype": "text/x-python",
   "name": "python",
   "nbconvert_exporter": "python",
   "pygments_lexer": "ipython3",
   "version": "3.12.3"
  }
 },
 "nbformat": 4,
 "nbformat_minor": 5
}
